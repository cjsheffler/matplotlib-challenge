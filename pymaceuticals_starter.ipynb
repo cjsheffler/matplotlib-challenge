{
 "cells": [
  {
   "cell_type": "markdown",
   "metadata": {},
   "source": [
    "## Observations and Insights"
   ]
  },
  {
   "cell_type": "markdown",
   "metadata": {},
   "source": []
  },
  {
   "cell_type": "markdown",
   "metadata": {},
   "source": [
    "## Dependencies and starter code"
   ]
  },
  {
   "cell_type": "code",
   "execution_count": 15,
   "metadata": {},
   "outputs": [
    {
     "name": "stdout",
     "output_type": "stream",
     "text": [
      "<class 'pandas.core.frame.DataFrame'>\n",
      "Int64Index: 1893 entries, 0 to 1892\n",
      "Data columns (total 8 columns):\n",
      " #   Column              Non-Null Count  Dtype  \n",
      "---  ------              --------------  -----  \n",
      " 0   Mouse ID            1893 non-null   object \n",
      " 1   Drug Regimen        1893 non-null   object \n",
      " 2   Sex                 1893 non-null   object \n",
      " 3   Age_months          1893 non-null   int64  \n",
      " 4   Weight (g)          1893 non-null   int64  \n",
      " 5   Timepoint           1893 non-null   int64  \n",
      " 6   Tumor Volume (mm3)  1893 non-null   float64\n",
      " 7   Metastatic Sites    1893 non-null   int64  \n",
      "dtypes: float64(1), int64(4), object(3)\n",
      "memory usage: 133.1+ KB\n"
     ]
    }
   ],
   "source": [
    "# Dependencies\n",
    "import pandas as pd\n",
    "import random\n",
    "import matplotlib.pyplot as plt\n",
    "import numpy as np\n",
    "from scipy.stats import sem\n",
    "\n",
    "# Study data files\n",
    "mouse_metadata = \"data/Mouse_metadata.csv\"\n",
    "study_results = \"data/Study_results.csv\"\n",
    "\n",
    "# Read the mouse data and the study results\n",
    "mouse_metadata = pd.read_csv(mouse_metadata)\n",
    "study_results = pd.read_csv(study_results)\n",
    "\n",
    "# Combine the data into a single dataset\n",
    "\n",
    "mouse_metadata.head()\n",
    "# Col Names Mouse ID, Drug Regimen, Sex, Age_months, Weight (g)\n",
    "# 249 non-null rows\n",
    "\n",
    "study_results.head()\n",
    "# Col names Mouse ID, Timepoint, Tumor Volume (mm3), metastatic sites\n",
    "# 1893 non-null rows\n",
    "# 249 mouses\n",
    "\n",
    "combined_data = pd.merge(mouse_metadata, study_results, on = \"Mouse ID\")\n",
    "combined_data.info()\n",
    "# Did not lose any rows. No null values in columns. hooray.gif"
   ]
  },
  {
   "cell_type": "markdown",
   "metadata": {},
   "source": [
    "## Summary statistics"
   ]
  },
  {
   "cell_type": "code",
   "execution_count": 23,
   "metadata": {},
   "outputs": [],
   "source": [
    "# Generate a summary statistics table of mean, median, variance, \n",
    "# standard deviation, and SEM of the tumor volume for each regimen\n",
    "\n",
    "ramicane_data = combined_data[combined_data[\"Drug Regimen\"] == \"Ramicane\"]\n",
    "capomulin_data = combined_data[combined_data[\"Drug Regimen\"] == \"Capomulin\"]\n",
    "infubinol_data = combined_data[combined_data[\"Drug Regimen\"] == \"Infubinol\"]\n",
    "placebo_data = combined_data[combined_data[\"Drug Regimen\"] == \"Placebo\"]\n",
    "ceftamin_data = combined_data[combined_data[\"Drug Regimen\"] == \"Ceftamin\"]\n",
    "stelasyn_data = combined_data[combined_data[\"Drug Regimen\"] == \"Stelasyn\"]\n",
    "zoniferol_data = combined_data[combined_data[\"Drug Regimen\"] == \"Zoniferol\"]\n",
    "ketapril_data = combined_data[combined_data[\"Drug Regimen\"] == \"Ketapril\"]\n",
    "propiva_data = combined_data[combined_data[\"Drug Regimen\"] == \"Propiva\"]\n",
    "naftisol_data = combined_data[combined_data[\"Drug Regimen\"] == \"Naftisol\"]"
   ]
  },
  {
   "cell_type": "code",
   "execution_count": 24,
   "metadata": {},
   "outputs": [],
   "source": [
    "#Ramicane\n",
    "ramicane_data = ramicane_data[[\"Drug Regimen\",\"Tumor Volume (mm3)\"]]\n",
    "ramicane_mean = ramicane_data[\"Tumor Volume (mm3)\"].mean()\n",
    "ramicane_median = ramicane_data[\"Tumor Volume (mm3)\"].median()\n",
    "ramicane_var = np.var(ramicane_data[\"Tumor Volume (mm3)\"], ddof = 0)\n",
    "ramicane_std = ramicane_data[\"Tumor Volume (mm3)\"].std()\n",
    "ramicane_sem = ramicane_data[\"Tumor Volume (mm3)\"].sem()"
   ]
  },
  {
   "cell_type": "code",
   "execution_count": 25,
   "metadata": {},
   "outputs": [],
   "source": [
    "#Capomulin\n",
    "capomulin_data = capomulin_data[[\"Drug Regimen\",\"Tumor Volume (mm3)\"]]\n",
    "capomulin_mean = capomulin_data[\"Tumor Volume (mm3)\"].mean()\n",
    "capomulin_median = capomulin_data[\"Tumor Volume (mm3)\"].median()\n",
    "capomulin_var = np.var(capomulin_data[\"Tumor Volume (mm3)\"], ddof = 0)\n",
    "capomulin_std = capomulin_data[\"Tumor Volume (mm3)\"].std()\n",
    "capomulin_sem = capomulin_data[\"Tumor Volume (mm3)\"].sem()"
   ]
  },
  {
   "cell_type": "code",
   "execution_count": 26,
   "metadata": {},
   "outputs": [],
   "source": [
    "#Infubinol\n",
    "infubinol_data = infubinol_data[[\"Drug Regimen\",\"Tumor Volume (mm3)\"]]\n",
    "infubinol_mean = infubinol_data[\"Tumor Volume (mm3)\"].mean()\n",
    "infubinol_median = infubinol_data[\"Tumor Volume (mm3)\"].median()\n",
    "infubinol_var = np.var(infubinol_data[\"Tumor Volume (mm3)\"], ddof = 0)\n",
    "infubinol_std = infubinol_data[\"Tumor Volume (mm3)\"].std()\n",
    "infubinol_sem = infubinol_data[\"Tumor Volume (mm3)\"].sem()"
   ]
  },
  {
   "cell_type": "code",
   "execution_count": 29,
   "metadata": {},
   "outputs": [],
   "source": [
    "#placebo\n",
    "placebo_data = placebo_data[[\"Drug Regimen\",\"Tumor Volume (mm3)\"]]\n",
    "placebo_mean = placebo_data[\"Tumor Volume (mm3)\"].mean()\n",
    "placebo_median = placebo_data[\"Tumor Volume (mm3)\"].median()\n",
    "placebo_var = np.var(placebo_data[\"Tumor Volume (mm3)\"], ddof = 0)\n",
    "placebo_std = placebo_data[\"Tumor Volume (mm3)\"].std()\n",
    "placebo_sem = placebo_data[\"Tumor Volume (mm3)\"].sem()"
   ]
  },
  {
   "cell_type": "code",
   "execution_count": 30,
   "metadata": {},
   "outputs": [],
   "source": [
    "#Ceftamin\n",
    "ceftamin_data = ceftamin_data[[\"Drug Regimen\",\"Tumor Volume (mm3)\"]]\n",
    "ceftamin_mean = ceftamin_data[\"Tumor Volume (mm3)\"].mean()\n",
    "ceftamin_median = ceftamin_data[\"Tumor Volume (mm3)\"].median()\n",
    "ceftamin_var = np.var(ceftamin_data[\"Tumor Volume (mm3)\"], ddof = 0)\n",
    "ceftamin_std = ceftamin_data[\"Tumor Volume (mm3)\"].std()\n",
    "ceftamin_sem = ceftamin_data[\"Tumor Volume (mm3)\"].sem()"
   ]
  },
  {
   "cell_type": "code",
   "execution_count": 31,
   "metadata": {},
   "outputs": [],
   "source": [
    "#stelasyn\n",
    "stelasyn_data = stelasyn_data[[\"Drug Regimen\",\"Tumor Volume (mm3)\"]]\n",
    "stelasyn_mean = stelasyn_data[\"Tumor Volume (mm3)\"].mean()\n",
    "stelasyn_median = stelasyn_data[\"Tumor Volume (mm3)\"].median()\n",
    "stelasyn_var = np.var(stelasyn_data[\"Tumor Volume (mm3)\"], ddof = 0)\n",
    "stelasyn_std = stelasyn_data[\"Tumor Volume (mm3)\"].std()\n",
    "stelasyn_sem = stelasyn_data[\"Tumor Volume (mm3)\"].sem()"
   ]
  },
  {
   "cell_type": "code",
   "execution_count": 32,
   "metadata": {},
   "outputs": [],
   "source": [
    "#zoniferol\n",
    "zoniferol_data = zoniferol_data[[\"Drug Regimen\",\"Tumor Volume (mm3)\"]]\n",
    "zoniferol_mean = zoniferol_data[\"Tumor Volume (mm3)\"].mean()\n",
    "zoniferol_median = zoniferol_data[\"Tumor Volume (mm3)\"].median()\n",
    "zoniferol_var = np.var(zoniferol_data[\"Tumor Volume (mm3)\"], ddof = 0)\n",
    "zoniferol_std = zoniferol_data[\"Tumor Volume (mm3)\"].std()\n",
    "zoniferol_sem = zoniferol_data[\"Tumor Volume (mm3)\"].sem()"
   ]
  },
  {
   "cell_type": "code",
   "execution_count": 33,
   "metadata": {},
   "outputs": [],
   "source": [
    "#ketapril\n",
    "ketapril_data = ketapril_data[[\"Drug Regimen\",\"Tumor Volume (mm3)\"]]\n",
    "ketapril_mean = ketapril_data[\"Tumor Volume (mm3)\"].mean()\n",
    "ketapril_median = ketapril_data[\"Tumor Volume (mm3)\"].median()\n",
    "ketapril_var = np.var(ketapril_data[\"Tumor Volume (mm3)\"], ddof = 0)\n",
    "ketapril_std = ketapril_data[\"Tumor Volume (mm3)\"].std()\n",
    "ketapril_sem = ketapril_data[\"Tumor Volume (mm3)\"].sem()"
   ]
  },
  {
   "cell_type": "code",
   "execution_count": 35,
   "metadata": {},
   "outputs": [],
   "source": [
    "#propiva\n",
    "propiva_data = propiva_data[[\"Drug Regimen\",\"Tumor Volume (mm3)\"]]\n",
    "propiva_mean = propiva_data[\"Tumor Volume (mm3)\"].mean()\n",
    "propiva_median = propiva_data[\"Tumor Volume (mm3)\"].median()\n",
    "propiva_var = np.var(propiva_data[\"Tumor Volume (mm3)\"], ddof = 0)\n",
    "propiva_std = propiva_data[\"Tumor Volume (mm3)\"].std()\n",
    "propiva_sem = propiva_data[\"Tumor Volume (mm3)\"].sem()"
   ]
  },
  {
   "cell_type": "code",
   "execution_count": 36,
   "metadata": {},
   "outputs": [],
   "source": [
    "#naftisol\n",
    "naftisol_data = naftisol_data[[\"Drug Regimen\",\"Tumor Volume (mm3)\"]]\n",
    "naftisol_mean = naftisol_data[\"Tumor Volume (mm3)\"].mean()\n",
    "naftisol_median = naftisol_data[\"Tumor Volume (mm3)\"].median()\n",
    "naftisol_var = np.var(naftisol_data[\"Tumor Volume (mm3)\"], ddof = 0)\n",
    "naftisol_std = naftisol_data[\"Tumor Volume (mm3)\"].std()\n",
    "naftisol_sem = naftisol_data[\"Tumor Volume (mm3)\"].sem()"
   ]
  },
  {
   "cell_type": "code",
   "execution_count": 3,
   "metadata": {},
   "outputs": [
    {
     "data": {
      "text/plain": [
       "65.81770759495988"
      ]
     },
     "metadata": {},
     "output_type": "display_data"
    }
   ],
   "source": [
    "# # Generate a summary statistics table of mean, median, variance, \n",
    "# # standard deviation, and SEM of the tumor volume for each regimen\n",
    "\n",
    "# # 'Ramicane', 'Capomulin', 'Infubinol', 'Placebo', 'Ceftamin', \n",
    "# # 'Stelasyn', 'Zoniferol', 'Ketapril', 'Propriva', 'Naftisol'\n",
    "\n",
    "# regimen_tumor_size = combined_data[[\"Drug Regimen\", \"Tumor Volume (mm3)\"]]\n",
    "\n",
    "# mean_tumor_volume = regimen_tumor_size.groupby([\"Drug Regimen\"])\n",
    "# mean_tumor_volume = mean_tumor_volume.mean()\n",
    "\n",
    "# median_tumor_volume = regimen_tumor_size.groupby([\"Drug Regimen\"])\n",
    "# median_tumor_volume = median_tumor_volume.median()\n",
    "\n",
    "# #display(mean_tumor_volume, median_tumor_volume)\n",
    "\n",
    "# #ramicane\n",
    "# ramicane_var = regimen_tumor_size[regimen_tumor_size[\"Drug Regimen\"]  == \"Ramicane\"]\n",
    "# ramicane_var = ramicane_var[\"Tumor Volume (mm3)\"]\n",
    "# ramicane_var = np.var(ramicane_var, ddof = 0)\n",
    "\n",
    "# #capomulin\n",
    "# capomulin_var = regimen_tumor_size[regimen_tumor_size[\"Drug Regimen\"]  == \"Capomulin\"]\n",
    "# capomulin_var = capomulin_var[\"Tumor Volume (mm3)\"]\n",
    "# capomulin_var = np.var(capomulin_var, ddof = 0)\n",
    "\n",
    "# #infubinol\n",
    "# infubinol_var = regimen_tumor_size[regimen_tumor_size[\"Drug Regimen\"]  == \"Infubinol\"]\n",
    "# infubinol_var = infubinol_var[\"Tumor Volume (mm3)\"]\n",
    "# infubinol_var = np.var(infubinol_var, ddof = 0)\n",
    "\n",
    "# #placebo\n",
    "# placebo_var = regimen_tumor_size[regimen_tumor_size[\"Drug Regimen\"]  == \"Placebo\"]\n",
    "# placebo_var = placebo_var[\"Tumor Volume (mm3)\"]\n",
    "# placebo_var = np.var(placebo_var, ddof = 0)\n",
    "\n",
    "# #ceftamin\n",
    "# ceftamin_var = regimen_tumor_size[regimen_tumor_size[\"Drug Regimen\"]  == \"Ceftamin\"]\n",
    "# ceftamin_var = ceftamin_var[\"Tumor Volume (mm3)\"]\n",
    "# ceftamin_var = np.var(ceftamin_var, ddof = 0)\n",
    "\n",
    "# #stelasyn\n",
    "# stelasyn_var = regimen_tumor_size[regimen_tumor_size[\"Drug Regimen\"]  == \"Stelasyn\"]\n",
    "# stelasyn_var = stelasyn_var[\"Tumor Volume (mm3)\"]\n",
    "# stelasyn_var = np.var(stelasyn_var, ddof = 0)\n",
    "\n",
    "# #zoniferol\n",
    "# zoniferol_var = regimen_tumor_size[regimen_tumor_size[\"Drug Regimen\"]  == \"Zoniferol\"]\n",
    "# zoniferol_var = zoniferol_var[\"Tumor Volume (mm3)\"]\n",
    "# zoniferol_var = np.var(zoniferol_var, ddof = 0)\n",
    "\n",
    "# #ketapril\n",
    "# ketapril_var = regimen_tumor_size[regimen_tumor_size[\"Drug Regimen\"]  == \"Ketapril\"]\n",
    "# ketapril_var = ketapril_var[\"Tumor Volume (mm3)\"]\n",
    "# ketapril_var = np.var(ketapril_var, ddof = 0)\n",
    "\n",
    "# #propriva\n",
    "# propriva_var = regimen_tumor_size[regimen_tumor_size[\"Drug Regimen\"]  == \"Propriva\"]\n",
    "# propriva_var = propriva_var[\"Tumor Volume (mm3)\"]\n",
    "# propriva_var = np.var(propriva_var, ddof = 0)\n",
    "\n",
    "# #naftisol\n",
    "# naftisol_var = regimen_tumor_size[regimen_tumor_size[\"Drug Regimen\"]  == \"Naftisol\"]\n",
    "# naftisol_var = naftisol_var[\"Tumor Volume (mm3)\"]\n",
    "# naftisol_var = np.var(naftisol_var, ddof = 0)\n",
    "\n",
    "\n",
    "## Bar plots"
   ]
  },
  {
   "cell_type": "code",
   "execution_count": null,
   "metadata": {},
   "outputs": [],
   "source": [
    "# Generate a bar plot showing number of data points for each \n",
    "# treatment regimen using pandas"
   ]
  },
  {
   "cell_type": "code",
   "execution_count": null,
   "metadata": {},
   "outputs": [],
   "source": [
    "# Generate a bar plot showing number of data points for each \n",
    "# treatment regimen using pyplot"
   ]
  },
  {
   "cell_type": "markdown",
   "metadata": {},
   "source": [
    "## Pie plots"
   ]
  },
  {
   "cell_type": "code",
   "execution_count": null,
   "metadata": {},
   "outputs": [],
   "source": [
    "# Generate a pie plot showing the distribution of female versus male mice \n",
    "# using pandas"
   ]
  },
  {
   "cell_type": "code",
   "execution_count": null,
   "metadata": {},
   "outputs": [],
   "source": [
    "# Generate a pie plot showing the distribution of female versus male mice \n",
    "# using pyplot"
   ]
  },
  {
   "cell_type": "markdown",
   "metadata": {},
   "source": [
    "## Quartiles, outliers and boxplots"
   ]
  },
  {
   "cell_type": "code",
   "execution_count": null,
   "metadata": {},
   "outputs": [],
   "source": [
    "# Calculate the final tumor volume of each mouse across four of the most \n",
    "# promising treatment regimens. Calculate the IQR and quantitatively determine \n",
    "# if there are any potential outliers. "
   ]
  },
  {
   "cell_type": "code",
   "execution_count": null,
   "metadata": {},
   "outputs": [],
   "source": [
    "# Generate a box plot of the final tumor volume of each mouse across \n",
    "# four regimens of interest"
   ]
  },
  {
   "cell_type": "markdown",
   "metadata": {},
   "source": [
    "## Line and scatter plots"
   ]
  },
  {
   "cell_type": "code",
   "execution_count": null,
   "metadata": {},
   "outputs": [],
   "source": [
    "# Generate a line plot of time point versus tumor volume for a mouse \n",
    "# treated with Capomulin"
   ]
  },
  {
   "cell_type": "code",
   "execution_count": null,
   "metadata": {},
   "outputs": [],
   "source": [
    "# Generate a scatter plot of mouse weight versus average tumor volume for \n",
    "# the Capomulin regimen"
   ]
  },
  {
   "cell_type": "code",
   "execution_count": null,
   "metadata": {},
   "outputs": [],
   "source": [
    "# Calculate the correlation coefficient and linear regression model \n",
    "# for mouse weight and average tumor volume for the Capomulin regimen"
   ]
  },
  {
   "cell_type": "code",
   "execution_count": null,
   "metadata": {},
   "outputs": [],
   "source": []
  }
 ],
 "metadata": {
  "anaconda-cloud": {},
  "kernelspec": {
   "display_name": "Python [conda env:PythonData]",
   "language": "python",
   "name": "conda-env-PythonData-py"
  },
  "language_info": {
   "codemirror_mode": {
    "name": "ipython",
    "version": 3
   },
   "file_extension": ".py",
   "mimetype": "text/x-python",
   "name": "python",
   "nbconvert_exporter": "python",
   "pygments_lexer": "ipython3",
   "version": "3.7.6"
  }
 },
 "nbformat": 4,
 "nbformat_minor": 2
}
