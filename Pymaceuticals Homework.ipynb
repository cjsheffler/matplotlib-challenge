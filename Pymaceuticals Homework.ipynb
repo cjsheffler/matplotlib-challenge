{
 "cells": [
  {
   "cell_type": "markdown",
   "metadata": {},
   "source": [
    "## Observations and Insights"
   ]
  },
  {
   "cell_type": "markdown",
   "metadata": {},
   "source": []
  },
  {
   "cell_type": "markdown",
   "metadata": {},
   "source": [
    "## Dependencies and starter code"
   ]
  },
  {
   "cell_type": "code",
   "execution_count": 1,
   "metadata": {},
   "outputs": [
    {
     "name": "stdout",
     "output_type": "stream",
     "text": [
      "<class 'pandas.core.frame.DataFrame'>\n",
      "Int64Index: 1893 entries, 0 to 1892\n",
      "Data columns (total 8 columns):\n",
      " #   Column              Non-Null Count  Dtype  \n",
      "---  ------              --------------  -----  \n",
      " 0   Mouse ID            1893 non-null   object \n",
      " 1   Drug Regimen        1893 non-null   object \n",
      " 2   Sex                 1893 non-null   object \n",
      " 3   Age_months          1893 non-null   int64  \n",
      " 4   Weight (g)          1893 non-null   int64  \n",
      " 5   Timepoint           1893 non-null   int64  \n",
      " 6   Tumor Volume (mm3)  1893 non-null   float64\n",
      " 7   Metastatic Sites    1893 non-null   int64  \n",
      "dtypes: float64(1), int64(4), object(3)\n",
      "memory usage: 133.1+ KB\n"
     ]
    }
   ],
   "source": [
    "# Dependencies and Setup\n",
    "import matplotlib.pyplot as plt\n",
    "import pandas as pd\n",
    "import scipy.stats as st\n",
    "import numpy as np\n",
    "from scipy.stats import linregress\n",
    "\n",
    "# Study data files\n",
    "mouse_metadata = \"data/Mouse_metadata.csv\"\n",
    "study_results = \"data/Study_results.csv\"\n",
    "\n",
    "# Read the mouse data and the study results\n",
    "mouse_metadata = pd.read_csv(mouse_metadata)\n",
    "study_results = pd.read_csv(study_results)\n",
    "\n",
    "# Combine the data into a single dataset\n",
    "\n",
    "combined_data = pd.merge(mouse_metadata, study_results, on = \"Mouse ID\")\n",
    "combined_data.info()"
   ]
  },
  {
   "cell_type": "markdown",
   "metadata": {},
   "source": [
    "## Summary statistics"
   ]
  },
  {
   "cell_type": "code",
   "execution_count": 2,
   "metadata": {},
   "outputs": [
    {
     "data": {
      "text/html": [
       "<div>\n",
       "<style scoped>\n",
       "    .dataframe tbody tr th:only-of-type {\n",
       "        vertical-align: middle;\n",
       "    }\n",
       "\n",
       "    .dataframe tbody tr th {\n",
       "        vertical-align: top;\n",
       "    }\n",
       "\n",
       "    .dataframe thead th {\n",
       "        text-align: right;\n",
       "    }\n",
       "</style>\n",
       "<table border=\"1\" class=\"dataframe\">\n",
       "  <thead>\n",
       "    <tr style=\"text-align: right;\">\n",
       "      <th></th>\n",
       "      <th>Mean Volume</th>\n",
       "      <th>Median Volume</th>\n",
       "      <th>Variance</th>\n",
       "      <th>Standard Deviation</th>\n",
       "      <th>SEM</th>\n",
       "    </tr>\n",
       "    <tr>\n",
       "      <th>Drug Regimen</th>\n",
       "      <th></th>\n",
       "      <th></th>\n",
       "      <th></th>\n",
       "      <th></th>\n",
       "      <th></th>\n",
       "    </tr>\n",
       "  </thead>\n",
       "  <tbody>\n",
       "    <tr>\n",
       "      <th>Capomulin</th>\n",
       "      <td>40.675741</td>\n",
       "      <td>41.557809</td>\n",
       "      <td>24.947764</td>\n",
       "      <td>4.994774</td>\n",
       "      <td>0.329346</td>\n",
       "    </tr>\n",
       "    <tr>\n",
       "      <th>Ceftamin</th>\n",
       "      <td>52.591172</td>\n",
       "      <td>51.776157</td>\n",
       "      <td>39.290177</td>\n",
       "      <td>6.268188</td>\n",
       "      <td>0.469821</td>\n",
       "    </tr>\n",
       "    <tr>\n",
       "      <th>Infubinol</th>\n",
       "      <td>52.884795</td>\n",
       "      <td>51.820584</td>\n",
       "      <td>43.128684</td>\n",
       "      <td>6.567243</td>\n",
       "      <td>0.492236</td>\n",
       "    </tr>\n",
       "    <tr>\n",
       "      <th>Ketapril</th>\n",
       "      <td>55.235638</td>\n",
       "      <td>53.698743</td>\n",
       "      <td>68.553577</td>\n",
       "      <td>8.279709</td>\n",
       "      <td>0.603860</td>\n",
       "    </tr>\n",
       "    <tr>\n",
       "      <th>Naftisol</th>\n",
       "      <td>54.331565</td>\n",
       "      <td>52.509285</td>\n",
       "      <td>66.173479</td>\n",
       "      <td>8.134708</td>\n",
       "      <td>0.596466</td>\n",
       "    </tr>\n",
       "    <tr>\n",
       "      <th>Placebo</th>\n",
       "      <td>54.033581</td>\n",
       "      <td>52.288934</td>\n",
       "      <td>61.168083</td>\n",
       "      <td>7.821003</td>\n",
       "      <td>0.581331</td>\n",
       "    </tr>\n",
       "    <tr>\n",
       "      <th>Propriva</th>\n",
       "      <td>52.322552</td>\n",
       "      <td>50.854632</td>\n",
       "      <td>42.351070</td>\n",
       "      <td>6.507770</td>\n",
       "      <td>0.512884</td>\n",
       "    </tr>\n",
       "    <tr>\n",
       "      <th>Ramicane</th>\n",
       "      <td>40.216745</td>\n",
       "      <td>40.673236</td>\n",
       "      <td>23.486704</td>\n",
       "      <td>4.846308</td>\n",
       "      <td>0.320955</td>\n",
       "    </tr>\n",
       "    <tr>\n",
       "      <th>Stelasyn</th>\n",
       "      <td>54.233149</td>\n",
       "      <td>52.431737</td>\n",
       "      <td>59.450562</td>\n",
       "      <td>7.710419</td>\n",
       "      <td>0.573111</td>\n",
       "    </tr>\n",
       "    <tr>\n",
       "      <th>Zoniferol</th>\n",
       "      <td>53.236507</td>\n",
       "      <td>51.818479</td>\n",
       "      <td>48.533355</td>\n",
       "      <td>6.966589</td>\n",
       "      <td>0.516398</td>\n",
       "    </tr>\n",
       "  </tbody>\n",
       "</table>\n",
       "</div>"
      ],
      "text/plain": [
       "              Mean Volume  Median Volume   Variance  Standard Deviation  \\\n",
       "Drug Regimen                                                              \n",
       "Capomulin       40.675741      41.557809  24.947764            4.994774   \n",
       "Ceftamin        52.591172      51.776157  39.290177            6.268188   \n",
       "Infubinol       52.884795      51.820584  43.128684            6.567243   \n",
       "Ketapril        55.235638      53.698743  68.553577            8.279709   \n",
       "Naftisol        54.331565      52.509285  66.173479            8.134708   \n",
       "Placebo         54.033581      52.288934  61.168083            7.821003   \n",
       "Propriva        52.322552      50.854632  42.351070            6.507770   \n",
       "Ramicane        40.216745      40.673236  23.486704            4.846308   \n",
       "Stelasyn        54.233149      52.431737  59.450562            7.710419   \n",
       "Zoniferol       53.236507      51.818479  48.533355            6.966589   \n",
       "\n",
       "                   SEM  \n",
       "Drug Regimen            \n",
       "Capomulin     0.329346  \n",
       "Ceftamin      0.469821  \n",
       "Infubinol     0.492236  \n",
       "Ketapril      0.603860  \n",
       "Naftisol      0.596466  \n",
       "Placebo       0.581331  \n",
       "Propriva      0.512884  \n",
       "Ramicane      0.320955  \n",
       "Stelasyn      0.573111  \n",
       "Zoniferol     0.516398  "
      ]
     },
     "metadata": {},
     "output_type": "display_data"
    }
   ],
   "source": [
    "# Generate a summary statistics table of mean, median, variance, standard deviation, \n",
    "# and SEM of the tumor volume for each regimen\n",
    "\n",
    "#group data by Drug Regimen\n",
    "combined_stats = combined_data.groupby(\"Drug Regimen\")\n",
    "\n",
    "#Calculate the summary statistics, put into a data frame, rename column\n",
    "mean_tumor = pd.DataFrame(combined_stats[\"Tumor Volume (mm3)\"].mean())\n",
    "mean_tumor.rename(columns = {'Tumor Volume (mm3)':'Mean Volume'}, inplace = True)\n",
    "median_tumor = pd.DataFrame(combined_stats[\"Tumor Volume (mm3)\"].median())\n",
    "median_tumor.rename(columns = {'Tumor Volume (mm3)':'Median Volume'}, inplace = True)\n",
    "std_tumor = pd.DataFrame(combined_stats[\"Tumor Volume (mm3)\"].std())\n",
    "std_tumor.rename(columns = {'Tumor Volume (mm3)':'Standard Deviation'}, inplace = True)\n",
    "variance_tumor = pd.DataFrame(combined_stats[\"Tumor Volume (mm3)\"].var())\n",
    "variance_tumor.rename(columns = {'Tumor Volume (mm3)':'Variance'}, inplace = True)\n",
    "sem_tumor = pd.DataFrame(combined_stats[\"Tumor Volume (mm3)\"].sem())\n",
    "sem_tumor.rename(columns = {'Tumor Volume (mm3)':'SEM'}, inplace = True)\n",
    "\n",
    "#createn a new dataframe; merge all data together\n",
    "summary_stats = mean_tumor\n",
    "summary_stats = pd.merge(summary_stats, median_tumor, left_index=True, right_index=True)\n",
    "summary_stats = pd.merge(summary_stats, variance_tumor, left_index=True, right_index=True)\n",
    "summary_stats = pd.merge(summary_stats, std_tumor, left_index=True, right_index=True)\n",
    "summary_stats = pd.merge(summary_stats, sem_tumor, left_index=True, right_index=True)\n",
    "\n",
    "#show the results\n",
    "display(summary_stats)"
   ]
  },
  {
   "cell_type": "markdown",
   "metadata": {},
   "source": [
    "## Bar plots"
   ]
  },
  {
   "cell_type": "code",
   "execution_count": 3,
   "metadata": {},
   "outputs": [
    {
     "data": {
      "image/png": "[encoded data removed]",
      "text/plain": [
       "<Figure size 432x288 with 1 Axes>"
      ]
     },
     "metadata": {
      "needs_background": "light"
     },
     "output_type": "display_data"
    }
   ],
   "source": [
    "# Generate a bar plot showing number of data points for each treatment regimen using pandas\n",
    "\n",
    "# Start with all data in a table, combined_data from previous steps\n",
    "\n",
    "# organize the data to get a count of the data points\n",
    "pd_bar_plot = combined_data[[\"Drug Regimen\",\"Timepoint\"]]\n",
    "pd_bar_plot = pd_bar_plot.groupby(\"Drug Regimen\")\n",
    "pd_bar_plot = pd.DataFrame(pd_bar_plot[\"Timepoint\"].count())\n",
    "pd_bar_plot = pd_bar_plot.rename(columns = {\"Timepoint\":\"Count of Data Points\"})\n",
    "pd_bar_plot = pd_bar_plot.sort_values(by=\"Count of Data Points\", ascending=False)\n",
    "\n",
    "# plot into bar chart\n",
    "pd_bar_plot.plot(kind=\"bar\")\n",
    "plt.title(\"Count of Data Points per Drug Regimen in Trial\")\n",
    "plt.ylabel(\"Count of Data Points\")\n",
    "plt.show()"
   ]
  },
  {
   "cell_type": "code",
   "execution_count": 4,
   "metadata": {},
   "outputs": [
    {
     "data": {
      "image/png": "[encoded data removed]",
      "text/plain": [
       "<Figure size 432x288 with 1 Axes>"
      ]
     },
     "metadata": {
      "needs_background": "light"
     },
     "output_type": "display_data"
    }
   ],
   "source": [
    "# Generate a bar plot showing number of data points for each treatment regimen using pyplot\n",
    "\n",
    "# Start with all data in a table, combined_data from previous steps\n",
    "\n",
    "# group the data and count the number of lines per regimen\n",
    "mpl_bar_plot = combined_data[[\"Drug Regimen\",\"Timepoint\"]]\n",
    "mpl_bar_plot = mpl_bar_plot.groupby(\"Drug Regimen\")\n",
    "mpl_bar_plot = pd.DataFrame(mpl_bar_plot[\"Timepoint\"].count())\n",
    "mpl_bar_plot.rename(columns = {'Timepoint':'Count of Data Points'}, inplace=True)\n",
    "mpl_bar_plot = mpl_bar_plot.reset_index()\n",
    "mpl_bar_plot = mpl_bar_plot.sort_values(by=[\"Count of Data Points\"], ascending=False)\n",
    "\n",
    "# set the x-axis and tick labels\n",
    "#from matplotlib Day 2 - Activity 2\n",
    "xaxis = np.arange(len(mpl_bar_plot))\n",
    "ticks = [value for value in xaxis]\n",
    "\n",
    "# create the bar plot, set the labels, make it looks like a million bucks\n",
    "plt.bar(xaxis, mpl_bar_plot[\"Count of Data Points\"])\n",
    "plt.xticks(ticks, mpl_bar_plot[\"Drug Regimen\"], rotation=\"vertical\")\n",
    "plt.xlabel(\"Drug Regimen\")\n",
    "plt.ylabel(\"Count of Data Points\")\n",
    "plt.title(\"Count of Data Points per Drug Regimen in Trial\")\n",
    "plt.xlim(-0.75, len(xaxis))\n",
    "plt.ylim(0,250)\n",
    "plt.show()"
   ]
  },
  {
   "cell_type": "markdown",
   "metadata": {},
   "source": [
    "## Pie plots"
   ]
  },
  {
   "cell_type": "code",
   "execution_count": 5,
   "metadata": {},
   "outputs": [
    {
     "name": "stderr",
     "output_type": "stream",
     "text": [
      "<ipython-input-5-ede7d8cea694>:8: MatplotlibDeprecationWarning: Adding an axes using the same arguments as a previous axes currently reuses the earlier instance.  In a future version, a new instance will always be created and returned.  Meanwhile, this warning can be suppressed, and the future behavior ensured, by passing a unique label to each axes instance.\n",
      "  plt.axes().set_ylabel('')\n"
     ]
    },
    {
     "data": {
      "image/png": "[encoded data removed]",
      "text/plain": [
       "<Figure size 432x288 with 1 Axes>"
      ]
     },
     "metadata": {},
     "output_type": "display_data"
    }
   ],
   "source": [
    "# Generate a pie plot showing the distribution of female versus male mice using pandas\n",
    "gender_data = combined_data\n",
    "gender_data = gender_data.drop_duplicates(subset=[\"Mouse ID\"])\n",
    "gender_data = gender_data[[\"Mouse ID\",\"Sex\"]]\n",
    "gender_data = gender_data.groupby(\"Sex\").count()\n",
    "gender_data = gender_data.rename(columns = {\"Mouse ID\":\"Count\"})\n",
    "gender_data.plot(kind=\"pie\", title = \"Percentage of Mice by Gender\", subplots=True, legend=False, autopct=\"%1.1f%%\", startangle=90)\n",
    "plt.axes().set_ylabel('')\n",
    "plt.show()\n",
    "\n",
    "# How to remove y-label found here https://stackoverflow.com/questions/34094596/python-matplotlib-pyplot-pie-charts-how-to-remove-the-label-on-the-left-side\n",
    "\n"
   ]
  },
  {
   "cell_type": "code",
   "execution_count": 6,
   "metadata": {
    "scrolled": true
   },
   "outputs": [
    {
     "name": "stderr",
     "output_type": "stream",
     "text": [
      "<ipython-input-6-f37821a5da26>:3: MatplotlibDeprecationWarning: Non-1D inputs to pie() are currently squeeze()d, but this behavior is deprecated since 3.1 and will be removed in 3.3; pass a 1D array instead.\n",
      "  plt.pie(gender_data, autopct=\"%1.1f%%\", labels=labels,shadow=True, startangle=90)\n"
     ]
    },
    {
     "data": {
      "image/png": "[encoded data removed]",
      "text/plain": [
       "<Figure size 432x288 with 1 Axes>"
      ]
     },
     "metadata": {},
     "output_type": "display_data"
    }
   ],
   "source": [
    "# Generate a pie plot showing the distribution of female versus male mice using pyplot\n",
    "labels = [\"Female\",\"Male\"]\n",
    "plt.pie(gender_data, autopct=\"%1.1f%%\", labels=labels,shadow=True, startangle=90)\n",
    "plt.title(\"Percentage of Mice by Gender\")\n",
    "plt.show()"
   ]
  },
  {
   "cell_type": "markdown",
   "metadata": {},
   "source": [
    "## Quartiles, outliers and boxplots"
   ]
  },
  {
   "cell_type": "code",
   "execution_count": 7,
   "metadata": {},
   "outputs": [
    {
     "name": "stdout",
     "output_type": "stream",
     "text": [
      "-----------------------------------------\n",
      "Capomulin\n",
      "-----------------------------------------\n",
      "Lower Quartile: 32.37735684\n",
      "Upper Quartile: 40.1592203\n",
      "IQR: 7.781863460000004\n",
      "Lower Bound: 20.70456164999999\n",
      "Upper Bound: 51.83201549\n"
     ]
    },
    {
     "data": {
      "text/html": [
       "<div>\n",
       "<style scoped>\n",
       "    .dataframe tbody tr th:only-of-type {\n",
       "        vertical-align: middle;\n",
       "    }\n",
       "\n",
       "    .dataframe tbody tr th {\n",
       "        vertical-align: top;\n",
       "    }\n",
       "\n",
       "    .dataframe thead th {\n",
       "        text-align: right;\n",
       "    }\n",
       "</style>\n",
       "<table border=\"1\" class=\"dataframe\">\n",
       "  <thead>\n",
       "    <tr style=\"text-align: right;\">\n",
       "      <th></th>\n",
       "      <th>Capomulin Potential Outlier Values</th>\n",
       "    </tr>\n",
       "  </thead>\n",
       "  <tbody>\n",
       "  </tbody>\n",
       "</table>\n",
       "</div>"
      ],
      "text/plain": [
       "Empty DataFrame\n",
       "Columns: [Capomulin Potential Outlier Values]\n",
       "Index: []"
      ]
     },
     "metadata": {},
     "output_type": "display_data"
    },
    {
     "name": "stdout",
     "output_type": "stream",
     "text": [
      "-----------------------------------------\n",
      "-----------------------------------------\n",
      "Ramicane\n",
      "-----------------------------------------\n",
      "Lower Quartile: 31.56046955\n",
      "Upper Quartile: 40.65900627\n",
      "IQR: 9.098536719999998\n",
      "Lower Bound: 17.912664470000003\n",
      "Upper Bound: 54.30681135\n"
     ]
    },
    {
     "data": {
      "text/html": [
       "<div>\n",
       "<style scoped>\n",
       "    .dataframe tbody tr th:only-of-type {\n",
       "        vertical-align: middle;\n",
       "    }\n",
       "\n",
       "    .dataframe tbody tr th {\n",
       "        vertical-align: top;\n",
       "    }\n",
       "\n",
       "    .dataframe thead th {\n",
       "        text-align: right;\n",
       "    }\n",
       "</style>\n",
       "<table border=\"1\" class=\"dataframe\">\n",
       "  <thead>\n",
       "    <tr style=\"text-align: right;\">\n",
       "      <th></th>\n",
       "      <th>Ramicane Potential Outlier Values</th>\n",
       "    </tr>\n",
       "  </thead>\n",
       "  <tbody>\n",
       "  </tbody>\n",
       "</table>\n",
       "</div>"
      ],
      "text/plain": [
       "Empty DataFrame\n",
       "Columns: [Ramicane Potential Outlier Values]\n",
       "Index: []"
      ]
     },
     "metadata": {},
     "output_type": "display_data"
    },
    {
     "name": "stdout",
     "output_type": "stream",
     "text": [
      "-----------------------------------------\n",
      "-----------------------------------------\n",
      "Infubinol\n",
      "-----------------------------------------\n",
      "Lower Quartile: 54.04860769\n",
      "Upper Quartile: 65.52574285\n",
      "IQR: 11.477135160000003\n",
      "Lower Bound: 36.83290494999999\n",
      "Upper Bound: 82.74144559000001\n"
     ]
    },
    {
     "data": {
      "text/html": [
       "<div>\n",
       "<style scoped>\n",
       "    .dataframe tbody tr th:only-of-type {\n",
       "        vertical-align: middle;\n",
       "    }\n",
       "\n",
       "    .dataframe tbody tr th {\n",
       "        vertical-align: top;\n",
       "    }\n",
       "\n",
       "    .dataframe thead th {\n",
       "        text-align: right;\n",
       "    }\n",
       "</style>\n",
       "<table border=\"1\" class=\"dataframe\">\n",
       "  <thead>\n",
       "    <tr style=\"text-align: right;\">\n",
       "      <th></th>\n",
       "      <th>Infubinol Potential Outlier Values</th>\n",
       "    </tr>\n",
       "  </thead>\n",
       "  <tbody>\n",
       "    <tr>\n",
       "      <th>669</th>\n",
       "      <td>36.321346</td>\n",
       "    </tr>\n",
       "  </tbody>\n",
       "</table>\n",
       "</div>"
      ],
      "text/plain": [
       "     Infubinol Potential Outlier Values\n",
       "669                           36.321346"
      ]
     },
     "metadata": {},
     "output_type": "display_data"
    },
    {
     "name": "stdout",
     "output_type": "stream",
     "text": [
      "-----------------------------------------\n",
      "-----------------------------------------\n",
      "Ceftamin\n",
      "-----------------------------------------\n",
      "Lower Quartile: 48.72207785\n",
      "Upper Quartile: 64.29983003\n",
      "IQR: 15.577752179999997\n",
      "Lower Bound: 25.355449580000002\n",
      "Upper Bound: 87.66645829999999\n"
     ]
    },
    {
     "data": {
      "text/html": [
       "<div>\n",
       "<style scoped>\n",
       "    .dataframe tbody tr th:only-of-type {\n",
       "        vertical-align: middle;\n",
       "    }\n",
       "\n",
       "    .dataframe tbody tr th {\n",
       "        vertical-align: top;\n",
       "    }\n",
       "\n",
       "    .dataframe thead th {\n",
       "        text-align: right;\n",
       "    }\n",
       "</style>\n",
       "<table border=\"1\" class=\"dataframe\">\n",
       "  <thead>\n",
       "    <tr style=\"text-align: right;\">\n",
       "      <th></th>\n",
       "      <th>Ceftamin Potential Outlier Values</th>\n",
       "    </tr>\n",
       "  </thead>\n",
       "  <tbody>\n",
       "  </tbody>\n",
       "</table>\n",
       "</div>"
      ],
      "text/plain": [
       "Empty DataFrame\n",
       "Columns: [Ceftamin Potential Outlier Values]\n",
       "Index: []"
      ]
     },
     "metadata": {},
     "output_type": "display_data"
    },
    {
     "name": "stdout",
     "output_type": "stream",
     "text": [
      "-----------------------------------------\n"
     ]
    }
   ],
   "source": [
    "# Calculate the final tumor volume of each mouse across four of the most \n",
    "# promising treatment regimens. Calculate the IQR and \n",
    "# quantitatively determine if there are any potential outliers.\n",
    "# Capomulin, Ramicane, Infubinol, and Ceftamin.\n",
    "\n",
    "# Capomulin\n",
    "cap_data = combined_data\n",
    "cap_data = cap_data[(cap_data[\"Drug Regimen\"] == \"Capomulin\")] \n",
    "cap_data\n",
    "\n",
    "cap_data_last = cap_data.sort_values(by=[\"Timepoint\"], ascending=False)\n",
    "cap_data_last = cap_data_last.drop_duplicates(subset=[\"Mouse ID\"])\n",
    "cap_data_last = cap_data_last[[\"Mouse ID\",\"Tumor Volume (mm3)\"]]\n",
    "cap_data_last = cap_data_last.rename(columns = {\"Tumor Volume (mm3)\":\"Final Tumor Volume\"})\n",
    "cap_data_last = pd.DataFrame(cap_data_last[\"Final Tumor Volume\"])\n",
    "cap_data_numbers = cap_data_last[\"Final Tumor Volume\"]\n",
    "cap_data_numbers\n",
    "\n",
    "# Based on Matplotlib lessonplan Day 3 - Activity 2\n",
    "\n",
    "cap_quartiles = cap_data_numbers.quantile([.25,.5,.75])\n",
    "cap_lowerq = cap_quartiles[0.25]\n",
    "cap_upperq = cap_quartiles[0.75]\n",
    "cap_iqr = cap_upperq - cap_lowerq\n",
    "cap_lb = cap_lowerq - (1.5*cap_iqr)\n",
    "cap_ub = cap_upperq + (1.5*cap_iqr)\n",
    "print(\"-----------------------------------------\")\n",
    "print(f\"Capomulin\")\n",
    "print(\"-----------------------------------------\")\n",
    "print(f\"Lower Quartile: {cap_lowerq}\")\n",
    "print(f\"Upper Quartile: {cap_upperq}\")\n",
    "print(f\"IQR: {cap_iqr}\")\n",
    "print(f\"Lower Bound: {cap_lb}\")\n",
    "print(f\"Upper Bound: {cap_ub}\")\n",
    "cap_lb = cap_lb.astype(\"float\")\n",
    "cap_po = cap_data_last[(cap_data_last[\"Final Tumor Volume\"] < cap_lb) | (cap_data_last[\"Final Tumor Volume\"] > cap_ub)]\n",
    "cap_po = cap_po.rename(columns = {\"Final Tumor Volume\":\"Capomulin Potential Outlier Values\"})\n",
    "display(cap_po)\n",
    "print(\"-----------------------------------------\")\n",
    "\n",
    "# Ramicane\n",
    "ram_data = combined_data\n",
    "ram_data = ram_data[(ram_data[\"Drug Regimen\"] == \"Ramicane\")] \n",
    "ram_data\n",
    "\n",
    "ram_data_last = ram_data.sort_values(by=[\"Timepoint\"], ascending=False)\n",
    "ram_data_last = ram_data_last.drop_duplicates(subset=[\"Mouse ID\"])\n",
    "ram_data_last = ram_data_last[[\"Mouse ID\",\"Tumor Volume (mm3)\"]]\n",
    "ram_data_last = ram_data_last.rename(columns = {\"Tumor Volume (mm3)\":\"Final Tumor Volume\"})\n",
    "ram_data_last = pd.DataFrame(ram_data_last[\"Final Tumor Volume\"])\n",
    "ram_data_numbers = ram_data_last[\"Final Tumor Volume\"]\n",
    "ram_data_numbers\n",
    "\n",
    "ram_quartiles = ram_data_numbers.quantile([.25,.5,.75])\n",
    "ram_lowerq = ram_quartiles[0.25]\n",
    "ram_upperq = ram_quartiles[0.75]\n",
    "ram_iqr = ram_upperq - ram_lowerq\n",
    "ram_lb = ram_lowerq - (1.5*ram_iqr)\n",
    "ram_ub = ram_upperq + (1.5*ram_iqr)\n",
    "print(\"-----------------------------------------\")\n",
    "print(f\"Ramicane\")\n",
    "print(\"-----------------------------------------\")\n",
    "print(f\"Lower Quartile: {ram_lowerq}\")\n",
    "print(f\"Upper Quartile: {ram_upperq}\")\n",
    "print(f\"IQR: {ram_iqr}\")\n",
    "print(f\"Lower Bound: {ram_lb}\")\n",
    "print(f\"Upper Bound: {ram_ub}\")\n",
    "ram_lb = ram_lb.astype(\"float\")\n",
    "ram_po = ram_data_last[(ram_data_last[\"Final Tumor Volume\"] < ram_lb) | (ram_data_last[\"Final Tumor Volume\"] > ram_ub)]\n",
    "ram_po = ram_po.rename(columns = {\"Final Tumor Volume\":\"Ramicane Potential Outlier Values\"})\n",
    "display(ram_po)\n",
    "print(\"-----------------------------------------\")\n",
    "\n",
    "# Infubinol\n",
    "inf_data = combined_data\n",
    "inf_data = inf_data[(inf_data[\"Drug Regimen\"] == \"Infubinol\")] \n",
    "inf_data\n",
    "\n",
    "inf_data_last = inf_data.sort_values(by=[\"Timepoint\"], ascending=False)\n",
    "inf_data_last = inf_data_last.drop_duplicates(subset=[\"Mouse ID\"])\n",
    "inf_data_last = inf_data_last[[\"Mouse ID\",\"Tumor Volume (mm3)\"]]\n",
    "inf_data_last = inf_data_last.rename(columns = {\"Tumor Volume (mm3)\":\"Final Tumor Volume\"})\n",
    "inf_data_last = pd.DataFrame(inf_data_last[\"Final Tumor Volume\"])\n",
    "inf_data_numbers = inf_data_last[\"Final Tumor Volume\"]\n",
    "inf_data_numbers\n",
    "\n",
    "inf_quartiles = inf_data_numbers.quantile([.25,.5,.75])\n",
    "inf_lowerq = inf_quartiles[0.25]\n",
    "inf_upperq = inf_quartiles[0.75]\n",
    "inf_iqr = inf_upperq - inf_lowerq\n",
    "inf_lb = inf_lowerq - (1.5*inf_iqr)\n",
    "inf_ub = inf_upperq + (1.5*inf_iqr)\n",
    "print(\"-----------------------------------------\")\n",
    "print(f\"Infubinol\")\n",
    "print(\"-----------------------------------------\")\n",
    "print(f\"Lower Quartile: {inf_lowerq}\")\n",
    "print(f\"Upper Quartile: {inf_upperq}\")\n",
    "print(f\"IQR: {inf_iqr}\")\n",
    "print(f\"Lower Bound: {inf_lb}\")\n",
    "print(f\"Upper Bound: {inf_ub}\")\n",
    "inf_lb = inf_lb.astype(\"float\")\n",
    "inf_po = inf_data_last[(inf_data_last[\"Final Tumor Volume\"] < inf_lb) | (inf_data_last[\"Final Tumor Volume\"] > inf_ub)]\n",
    "inf_po = inf_po.rename(columns = {\"Final Tumor Volume\":\"Infubinol Potential Outlier Values\"})\n",
    "display(inf_po)\n",
    "print(\"-----------------------------------------\")\n",
    "\n",
    "# Ceftamin\n",
    "\n",
    "cef_data = combined_data\n",
    "cef_data = cef_data[(cef_data[\"Drug Regimen\"] == \"Ceftamin\")] \n",
    "cef_data\n",
    "\n",
    "cef_data_last = cef_data.sort_values(by=[\"Timepoint\"], ascending=False)\n",
    "cef_data_last = cef_data_last.drop_duplicates(subset=[\"Mouse ID\"])\n",
    "cef_data_last = cef_data_last[[\"Mouse ID\",\"Tumor Volume (mm3)\"]]\n",
    "cef_data_last = cef_data_last.rename(columns = {\"Tumor Volume (mm3)\":\"Final Tumor Volume\"})\n",
    "cef_data_last = pd.DataFrame(cef_data_last[\"Final Tumor Volume\"])\n",
    "cef_data_numbers = cef_data_last[\"Final Tumor Volume\"]\n",
    "cef_data_numbers\n",
    "\n",
    "cef_quartiles = cef_data_numbers.quantile([.25,.5,.75])\n",
    "cef_lowerq = cef_quartiles[0.25]\n",
    "cef_upperq = cef_quartiles[0.75]\n",
    "cef_iqr = cef_upperq - cef_lowerq\n",
    "cef_lb = cef_lowerq - (1.5*cef_iqr)\n",
    "cef_ub = cef_upperq + (1.5*cef_iqr)\n",
    "print(\"-----------------------------------------\")\n",
    "print(f\"Ceftamin\")\n",
    "print(\"-----------------------------------------\")\n",
    "print(f\"Lower Quartile: {cef_lowerq}\")\n",
    "print(f\"Upper Quartile: {cef_upperq}\")\n",
    "print(f\"IQR: {cef_iqr}\")\n",
    "print(f\"Lower Bound: {cef_lb}\")\n",
    "print(f\"Upper Bound: {cef_ub}\")\n",
    "cef_lb = cef_lb.astype(\"float\")\n",
    "cef_po = cef_data_last[(cef_data_last[\"Final Tumor Volume\"] < cef_lb) | (cef_data_last[\"Final Tumor Volume\"] > cef_ub)]\n",
    "cef_po = cef_po.rename(columns = {\"Final Tumor Volume\":\"Ceftamin Potential Outlier Values\"})\n",
    "display(cef_po)\n",
    "print(\"-----------------------------------------\")"
   ]
  },
  {
   "cell_type": "code",
   "execution_count": 8,
   "metadata": {},
   "outputs": [
    {
     "data": {
      "image/png": "[encoded data removed]",
      "text/plain": [
       "<Figure size 432x288 with 1 Axes>"
      ]
     },
     "metadata": {
      "needs_background": "light"
     },
     "output_type": "display_data"
    },
    {
     "data": {
      "image/png": "[encoded data removed]",
      "text/plain": [
       "<Figure size 432x288 with 1 Axes>"
      ]
     },
     "metadata": {
      "needs_background": "light"
     },
     "output_type": "display_data"
    },
    {
     "data": {
      "image/png": "[encoded data removed]",
      "text/plain": [
       "<Figure size 432x288 with 1 Axes>"
      ]
     },
     "metadata": {
      "needs_background": "light"
     },
     "output_type": "display_data"
    },
    {
     "data": {
      "image/png": "[encoded data removed]",
      "text/plain": [
       "<Figure size 432x288 with 1 Axes>"
      ]
     },
     "metadata": {
      "needs_background": "light"
     },
     "output_type": "display_data"
    }
   ],
   "source": [
    "# Generate a box plot of the final tumor volume of each mouse across four regimens of interest\n",
    "cap_box = cap_data_last[\"Final Tumor Volume\"]\n",
    "fig1, ax1 = plt.subplots()\n",
    "ax1.set_title('Capomulin Final Tumor Volume')\n",
    "ax1.set_ylabel('Tumor Size (mm3)')\n",
    "ax1.boxplot(cap_box)\n",
    "plt.show()\n",
    "\n",
    "ram_box = ram_data_last[\"Final Tumor Volume\"]\n",
    "fig2, ax2 = plt.subplots()\n",
    "ax2.set_title('Ramicane Final Tumor Volume')\n",
    "ax2.set_ylabel('Tumor Size (mm3)')\n",
    "ax2.boxplot(ram_box)\n",
    "plt.show()\n",
    "\n",
    "inf_box = inf_data_last[\"Final Tumor Volume\"]\n",
    "fig3, ax3 = plt.subplots()\n",
    "ax3.set_title('Infubinol Final Tumor Volume')\n",
    "ax3.set_ylabel('Tumor Size (mm3)')\n",
    "ax3.boxplot(inf_box)\n",
    "plt.show()\n",
    "\n",
    "cef_box = cef_data_last[\"Final Tumor Volume\"]\n",
    "fig4, ax4 = plt.subplots()\n",
    "ax4.set_title('Ceftamin Final Tumor Volume')\n",
    "ax4.set_ylabel('Tumor Size (mm3)')\n",
    "ax4.boxplot(cef_box)\n",
    "plt.show()"
   ]
  },
  {
   "cell_type": "markdown",
   "metadata": {},
   "source": [
    "## Line and scatter plots"
   ]
  },
  {
   "cell_type": "code",
   "execution_count": 9,
   "metadata": {},
   "outputs": [
    {
     "data": {
      "image/png": "[encoded data removed]",
      "text/plain": [
       "<Figure size 432x288 with 1 Axes>"
      ]
     },
     "metadata": {
      "needs_background": "light"
     },
     "output_type": "display_data"
    }
   ],
   "source": [
    "# Generate a line plot of time point versus tumor volume for a mouse treated with Capomulin\n",
    "mouse_one = combined_data\n",
    "mouse_one = mouse_one[mouse_one[\"Drug Regimen\"] == \"Capomulin\"]\n",
    "mouse_one = mouse_one[mouse_one[\"Mouse ID\"] == \"s185\"]\n",
    "mouse_one = mouse_one[[\"Mouse ID\", \"Timepoint\", \"Tumor Volume (mm3)\"]]\n",
    "mouse_one.plot(x = \"Timepoint\" , y = \"Tumor Volume (mm3)\")\n",
    "plt.title(\"Tumor Size of Mouse s185 Over Time\")\n",
    "plt.xlabel(\"Time\")\n",
    "plt.ylabel(\"Tumor Volume (mm3)\")\n",
    "plt.show()"
   ]
  },
  {
   "cell_type": "code",
   "execution_count": 10,
   "metadata": {},
   "outputs": [
    {
     "data": {
      "image/png": "[encoded data removed]",
      "text/plain": [
       "<Figure size 432x288 with 1 Axes>"
      ]
     },
     "metadata": {
      "needs_background": "light"
     },
     "output_type": "display_data"
    }
   ],
   "source": [
    "# Generate a scatter plot of mouse weight versus average tumor volume for the Capomulin regimen\n",
    "cap_data = combined_data\n",
    "cap_data = cap_data[cap_data[\"Drug Regimen\"] == \"Capomulin\"]\n",
    "cap_data = cap_data[[\"Mouse ID\", \"Weight (g)\", \"Tumor Volume (mm3)\"]]\n",
    "cap_data = cap_data.groupby(\"Mouse ID\")\n",
    "cap_data = cap_data.mean()\n",
    "cap_data.plot(kind=\"scatter\", x = \"Weight (g)\", y = \"Tumor Volume (mm3)\", marker= \"x\")\n",
    "plt.title(\"Mouse Weight Compared to Tumor Volume\")\n",
    "plt.show()"
   ]
  },
  {
   "cell_type": "code",
   "execution_count": 11,
   "metadata": {},
   "outputs": [
    {
     "data": {
      "image/png": "[encoded data removed]",
      "text/plain": [
       "<Figure size 432x288 with 1 Axes>"
      ]
     },
     "metadata": {
      "needs_background": "light"
     },
     "output_type": "display_data"
    }
   ],
   "source": [
    "# Calculate the correlation coefficient and linear regression model for \n",
    "# mouse weight and average tumor volume for the Capomulin regimen\n",
    "cap_data\n",
    "\n",
    "weight = cap_data[\"Weight (g)\"]\n",
    "tumor_volume = cap_data[\"Tumor Volume (mm3)\"]\n",
    "\n",
    "# From Matplot Lib Day 3 - Units 6 through 9\n",
    "(slope, intercept, rvalue, pvalue, stderr) = linregress(weight, tumor_volume)\n",
    "regress_values = weight * slope + intercept\n",
    "line_eq = \"y = \" + str(round(slope,2)) + \"x + \" + str(round(intercept,2))\n",
    "correlation = st.pearsonr(weight, tumor_volume)\n",
    "plt.scatter(weight, tumor_volume)\n",
    "plt.plot(weight, regress_values,\"r-\")\n",
    "plt.title(\"Mouse Weight Compared to Tumor Volume\")\n",
    "corrtext = f\"Correlation Coefficient = {round(correlation[0],2)}\"\n",
    "plt.annotate(corrtext, (19,35), fontsize = 12, color =\"red\")\n",
    "plt.annotate(line_eq,(19,36), fontsize = 12, color=\"red\")\n",
    "#print(f\"The correlation between Mouse Weight and Tumor Volume is {round(correlation[0],2)}\")\n",
    "plt.show()"
   ]
  }
 ],
 "metadata": {
  "anaconda-cloud": {},
  "kernelspec": {
   "display_name": "Python 3",
   "language": "python",
   "name": "python3"
  },
  "language_info": {
   "codemirror_mode": {
    "name": "ipython",
    "version": 3
   },
   "file_extension": ".py",
   "mimetype": "text/x-python",
   "name": "python",
   "nbconvert_exporter": "python",
   "pygments_lexer": "ipython3",
   "version": "3.8.1"
  }
 },
 "nbformat": 4,
 "nbformat_minor": 2
}
